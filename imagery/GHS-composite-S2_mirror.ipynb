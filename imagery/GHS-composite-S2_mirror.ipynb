{
 "cells": [
  {
   "cell_type": "markdown",
   "metadata": {},
   "source": [
    "# Mirror GHS-composite-S2\n",
    "\n",
    "This section covers mirroring locally the UK section of the cloud-free composite Sentinel-2 mosaic created by the European Commission. Official website is over at:\n",
    "\n",
    "> https://ghsl.jrc.ec.europa.eu/ghs_s2composite.php\n",
    "\n",
    "And paper for the dataset is:\n",
    "\n",
    "> Corbane, C., Politis, P., Kempeneers, P., Simonetti, D., Soille, P., Burger, A., ... & Kemper, T. (2020). [A global cloud free pixel-based image composite from Sentinel-2 data](https://www.sciencedirect.com/science/article/pii/S2352340920306314). *Data in Brief*, 105737."
   ]
  },
  {
   "cell_type": "code",
   "execution_count": 1,
   "metadata": {},
   "outputs": [],
   "source": [
    "import sys\n",
    "sys.path.insert(0, \"../\")\n",
    "import utils\n",
    "import geopandas\n",
    "from dask import dataframe as dd\n",
    "from dask.system import cpu_count"
   ]
  },
  {
   "cell_type": "markdown",
   "metadata": {},
   "source": [
    "## Set up\n",
    "\n",
    "Before accessing and downloading each GeoTIFF, let's set up the target folder:"
   ]
  },
  {
   "cell_type": "code",
   "execution_count": 2,
   "metadata": {},
   "outputs": [],
   "source": [
    "local_dir = \"../../data/\""
   ]
  },
  {
   "cell_type": "markdown",
   "metadata": {},
   "source": [
    "The set of UTM tiles we require for GB are the following:"
   ]
  },
  {
   "cell_type": "code",
   "execution_count": 3,
   "metadata": {},
   "outputs": [],
   "source": [
    "gb_utm_tiles = [\"30U\", \"31U\", \"29V\", \"30V\"]"
   ]
  },
  {
   "cell_type": "markdown",
   "metadata": {},
   "source": [
    "The metadata for the grid of tiles and their URLs is available as a GeoJSON. We read the file and exclude every tile that does not cover GB:"
   ]
  },
  {
   "cell_type": "code",
   "execution_count": 4,
   "metadata": {},
   "outputs": [],
   "source": [
    "meta_p = \"GHS-composite-S2.geojson\"\n",
    "meta = geopandas.read_file(meta_p)\n",
    "meta = meta[meta[\"UTMtile\"].isin(gb_utm_tiles)]"
   ]
  },
  {
   "cell_type": "markdown",
   "metadata": {},
   "source": [
    "## Download scenes\n",
    "\n",
    "All of the scenes will be stored in the same folder (`local_dir`) in the OSGB 1936 British National Grid ([`EPSG:EPSG:27700`](http://epsg.io/27700)). This aligns with the rest of data in the project and will also allow setting up a single virtual raster (see next section)."
   ]
  },
  {
   "cell_type": "markdown",
   "metadata": {},
   "source": [
    "### Generate a column with target file"
   ]
  },
  {
   "cell_type": "code",
   "execution_count": 5,
   "metadata": {},
   "outputs": [],
   "source": [
    "meta[\"dst_path\"] = meta[\"URL\"].apply(lambda x: local_dir+x.split(\"/\")[-1])"
   ]
  },
  {
   "cell_type": "markdown",
   "metadata": {},
   "source": [
    "### Parallel download/reprojection\n",
    "\n",
    "In parallel:\n",
    "- Download each file on its each location\n",
    "- Reproject to OSGB grid"
   ]
  },
  {
   "cell_type": "code",
   "execution_count": 6,
   "metadata": {
    "collapsed": true,
    "jupyter": {
     "outputs_hidden": true
    }
   },
   "outputs": [
    {
     "name": "stdout",
     "output_type": "stream",
     "text": [
      "04/11/2020 17:23:27 | Working on Tile 29V - File: S2_percentile_UTM_148-0000069888-0000023296.tif\n",
      "04/11/2020 17:23:27 | Working on Tile 29V - File: S2_percentile_UTM_148-0000000000-0000023296.tif\n",
      "04/11/2020 17:23:27 | Working on Tile 29V - File: S2_percentile_UTM_148-0000046592-0000023296.tif\n",
      "04/11/2020 17:23:27 | Working on Tile 30U - File: S2_percentile_UTM_209-0000069888-0000023296.tif\n",
      "04/11/2020 17:23:27 | Working on Tile 30U - File: S2_percentile_UTM_209-0000046592-0000023296.tif\n",
      "04/11/2020 17:23:27 | Working on Tile 30U - File: S2_percentile_UTM_209-0000023296-0000023296.tif\n",
      "04/11/2020 17:23:27 | Working on Tile 29V - File: S2_percentile_UTM_148-0000023296-0000023296.tif\n",
      "04/11/2020 17:23:27 | Working on Tile 30U - File: S2_percentile_UTM_209-0000000000-0000023296.tif\n",
      "04/11/2020 17:23:27 | Working on Tile 30V - File: S2_percentile_UTM_149-0000069888-0000023296.tif\n",
      "04/11/2020 17:23:27 | Working on Tile 30V - File: S2_percentile_UTM_149-0000046592-0000023296.tif\n",
      "04/11/2020 17:23:27 | Working on Tile 30V - File: S2_percentile_UTM_149-0000023296-0000023296.tif\n",
      "04/11/2020 17:23:27 | Working on Tile 30V - File: S2_percentile_UTM_149-0000000000-0000023296.tif\n",
      "04/11/2020 17:23:27 | Working on Tile 31U - File: S2_percentile_UTM_210-0000069888-0000023296.tif\n",
      "04/11/2020 17:23:27 | Working on Tile 31U - File: S2_percentile_UTM_210-0000046592-0000023296.tif\n",
      "04/11/2020 17:23:27 | Working on Tile 31U - File: S2_percentile_UTM_210-0000023296-0000023296.tif\n",
      "04/11/2020 17:23:27 | Working on Tile 31U - File: S2_percentile_UTM_210-0000000000-0000023296.tif\n",
      "Downloading data from http://jeodpp.jrc.ec.europa.eu/ftp/jrc-opendata/GHSL/GHS_composite_S2_L1C_2017-2018_GLOBE_R2020A/GHS_composite_S2_L1C_2017-2018_GLOBE_R2020A_UTM_10/V1-0/31U/S2_percentile_UTM_210-0000023296-0000023296.tif (1.90 GB)\n",
      "\n",
      "Downloading data from http://jeodpp.jrc.ec.europa.eu/ftp/jrc-opendata/GHSL/GHS_composite_S2_L1C_2017-2018_GLOBE_R2020A/GHS_composite_S2_L1C_2017-2018_GLOBE_R2020A_UTM_10/V1-0/30V/S2_percentile_UTM_149-0000069888-0000023296.tif (980.5 MB)\n",
      "\n",
      "Downloading data from http://jeodpp.jrc.ec.europa.eu/ftp/jrc-opendata/GHSL/GHS_composite_S2_L1C_2017-2018_GLOBE_R2020A/GHS_composite_S2_L1C_2017-2018_GLOBE_R2020A_UTM_10/V1-0/30U/S2_percentile_UTM_209-0000046592-0000023296.tif (2.20 GB)\n",
      "\n",
      "Downloading data from http://jeodpp.jrc.ec.europa.eu/ftp/jrc-opendata/GHSL/GHS_composite_S2_L1C_2017-2018_GLOBE_R2020A/GHS_composite_S2_L1C_2017-2018_GLOBE_R2020A_UTM_10/V1-0/31U/S2_percentile_UTM_210-0000046592-0000023296.tif (2.62 GB)\n",
      "\n",
      "Downloading data from http://jeodpp.jrc.ec.europa.eu/ftp/jrc-opendata/GHSL/GHS_composite_S2_L1C_2017-2018_GLOBE_R2020A/GHS_composite_S2_L1C_2017-2018_GLOBE_R2020A_UTM_10/V1-0/29V/S2_percentile_UTM_148-0000046592-0000023296.tif (1.20 GB)\n",
      "\n",
      "Downloading data from http://jeodpp.jrc.ec.europa.eu/ftp/jrc-opendata/GHSL/GHS_composite_S2_L1C_2017-2018_GLOBE_R2020A/GHS_composite_S2_L1C_2017-2018_GLOBE_R2020A_UTM_10/V1-0/29V/S2_percentile_UTM_148-0000000000-0000023296.tif (407.2 MB)\n",
      "\n",
      "Downloading data from http://jeodpp.jrc.ec.europa.eu/ftp/jrc-opendata/GHSL/GHS_composite_S2_L1C_2017-2018_GLOBE_R2020A/GHS_composite_S2_L1C_2017-2018_GLOBE_R2020A_UTM_10/V1-0/30V/S2_percentile_UTM_149-0000000000-0000023296.tif (813.0 MB)\n",
      "\n",
      "Downloading data from http://jeodpp.jrc.ec.europa.eu/ftp/jrc-opendata/GHSL/GHS_composite_S2_L1C_2017-2018_GLOBE_R2020A/GHS_composite_S2_L1C_2017-2018_GLOBE_R2020A_UTM_10/V1-0/30U/S2_percentile_UTM_209-0000069888-0000023296.tif (2.04 GB)\n",
      "\n",
      "Downloading data from http://jeodpp.jrc.ec.europa.eu/ftp/jrc-opendata/GHSL/GHS_composite_S2_L1C_2017-2018_GLOBE_R2020A/GHS_composite_S2_L1C_2017-2018_GLOBE_R2020A_UTM_10/V1-0/31U/S2_percentile_UTM_210-0000069888-0000023296.tif (2.29 GB)\n",
      "\n",
      "Downloading data from http://jeodpp.jrc.ec.europa.eu/ftp/jrc-opendata/GHSL/GHS_composite_S2_L1C_2017-2018_GLOBE_R2020A/GHS_composite_S2_L1C_2017-2018_GLOBE_R2020A_UTM_10/V1-0/29V/S2_percentile_UTM_148-0000023296-0000023296.tif (1.09 GB)\n",
      "\n",
      "Downloading data from http://jeodpp.jrc.ec.europa.eu/ftp/jrc-opendata/GHSL/GHS_composite_S2_L1C_2017-2018_GLOBE_R2020A/GHS_composite_S2_L1C_2017-2018_GLOBE_R2020A_UTM_10/V1-0/30V/S2_percentile_UTM_149-0000023296-0000023296.tif (1.11 GB)\n",
      "\n",
      "Downloading data from http://jeodpp.jrc.ec.europa.eu/ftp/jrc-opendata/GHSL/GHS_composite_S2_L1C_2017-2018_GLOBE_R2020A/GHS_composite_S2_L1C_2017-2018_GLOBE_R2020A_UTM_10/V1-0/30U/S2_percentile_UTM_209-0000023296-0000023296.tif (2.55 GB)\n",
      "\n",
      "Downloading data from http://jeodpp.jrc.ec.europa.eu/ftp/jrc-opendata/GHSL/GHS_composite_S2_L1C_2017-2018_GLOBE_R2020A/GHS_composite_S2_L1C_2017-2018_GLOBE_R2020A_UTM_10/V1-0/31U/S2_percentile_UTM_210-0000000000-0000023296.tif (1.50 GB)\n",
      "\n",
      "Downloading data from http://jeodpp.jrc.ec.europa.eu/ftp/jrc-opendata/GHSL/GHS_composite_S2_L1C_2017-2018_GLOBE_R2020A/GHS_composite_S2_L1C_2017-2018_GLOBE_R2020A_UTM_10/V1-0/29V/S2_percentile_UTM_148-0000069888-0000023296.tif (1.06 GB)\n",
      "\n",
      "Downloading data from http://jeodpp.jrc.ec.europa.eu/ftp/jrc-opendata/GHSL/GHS_composite_S2_L1C_2017-2018_GLOBE_R2020A/GHS_composite_S2_L1C_2017-2018_GLOBE_R2020A_UTM_10/V1-0/30U/S2_percentile_UTM_209-0000000000-0000023296.tif (2.00 GB)\n",
      "\n",
      "Downloading data from http://jeodpp.jrc.ec.europa.eu/ftp/jrc-opendata/GHSL/GHS_composite_S2_L1C_2017-2018_GLOBE_R2020A/GHS_composite_S2_L1C_2017-2018_GLOBE_R2020A_UTM_10/V1-0/30V/S2_percentile_UTM_149-0000046592-0000023296.tif (1.13 GB)\n",
      "\n",
      "Successfully downloaded file to ../../data/S2_percentile_UTM_148-0000000000-0000023296.tif\n",
      "\t04/11/2020 18:28:00 | rio warp ../../data/S2_percentile_UTM_148-0000000000-0000023296.tif ../../data/S2_percentile_UTM_148-0000000000-0000023296_osgb.tif --threads 16 --dst-crs EPSG:27700\n",
      "04/11/2020 18:29:11 | Working on Tile 29V - File: S2_percentile_UTM_148-0000000000-0000000000.tif\n",
      "Downloading data from http://jeodpp.jrc.ec.europa.eu/ftp/jrc-opendata/GHSL/GHS_composite_S2_L1C_2017-2018_GLOBE_R2020A/GHS_composite_S2_L1C_2017-2018_GLOBE_R2020A_UTM_10/V1-0/29V/S2_percentile_UTM_148-0000000000-0000000000.tif (1.03 GB)\n",
      "\n",
      "Successfully downloaded file to ../../data/S2_percentile_UTM_149-0000000000-0000023296.tif\n",
      "\t04/11/2020 19:13:05 | rio warp ../../data/S2_percentile_UTM_149-0000000000-0000023296.tif ../../data/S2_percentile_UTM_149-0000000000-0000023296_osgb.tif --threads 16 --dst-crs EPSG:27700\n",
      "04/11/2020 19:15:33 | Working on Tile 30V - File: S2_percentile_UTM_149-0000000000-0000000000.tif\n",
      "Downloading data from http://jeodpp.jrc.ec.europa.eu/ftp/jrc-opendata/GHSL/GHS_composite_S2_L1C_2017-2018_GLOBE_R2020A/GHS_composite_S2_L1C_2017-2018_GLOBE_R2020A_UTM_10/V1-0/30V/S2_percentile_UTM_149-0000000000-0000000000.tif (678.9 MB)\n",
      "\n",
      "Successfully downloaded file to ../../data/S2_percentile_UTM_149-0000046592-0000023296.tif\n",
      "\t04/11/2020 19:22:48 | rio warp ../../data/S2_percentile_UTM_149-0000046592-0000023296.tif ../../data/S2_percentile_UTM_149-0000046592-0000023296_osgb.tif --threads 16 --dst-crs EPSG:27700\n",
      "Successfully downloaded file to ../../data/S2_percentile_UTM_149-0000023296-0000023296.tif\n",
      "\t04/11/2020 19:25:11 | rio warp ../../data/S2_percentile_UTM_149-0000023296-0000023296.tif ../../data/S2_percentile_UTM_149-0000023296-0000023296_osgb.tif --threads 16 --dst-crs EPSG:27700\n",
      "04/11/2020 19:26:02 | Working on Tile 30V - File: S2_percentile_UTM_149-0000046592-0000000000.tif\n",
      "Downloading data from http://jeodpp.jrc.ec.europa.eu/ftp/jrc-opendata/GHSL/GHS_composite_S2_L1C_2017-2018_GLOBE_R2020A/GHS_composite_S2_L1C_2017-2018_GLOBE_R2020A_UTM_10/V1-0/30V/S2_percentile_UTM_149-0000046592-0000000000.tif (2.11 GB)\n",
      "\n",
      "Successfully downloaded file to ../../data/S2_percentile_UTM_149-0000069888-0000023296.tif\n",
      "\t04/11/2020 19:28:01 | rio warp ../../data/S2_percentile_UTM_149-0000069888-0000023296.tif ../../data/S2_percentile_UTM_149-0000069888-0000023296_osgb.tif --threads 16 --dst-crs EPSG:27700\n",
      "04/11/2020 19:28:01 | Working on Tile 30V - File: S2_percentile_UTM_149-0000023296-0000000000.tif\n",
      "Downloading data from http://jeodpp.jrc.ec.europa.eu/ftp/jrc-opendata/GHSL/GHS_composite_S2_L1C_2017-2018_GLOBE_R2020A/GHS_composite_S2_L1C_2017-2018_GLOBE_R2020A_UTM_10/V1-0/30V/S2_percentile_UTM_149-0000023296-0000000000.tif (1.86 GB)\n",
      "\n",
      "04/11/2020 19:30:59 | Working on Tile 30V - File: S2_percentile_UTM_149-0000069888-0000000000.tif\n",
      "Downloading data from http://jeodpp.jrc.ec.europa.eu/ftp/jrc-opendata/GHSL/GHS_composite_S2_L1C_2017-2018_GLOBE_R2020A/GHS_composite_S2_L1C_2017-2018_GLOBE_R2020A_UTM_10/V1-0/30V/S2_percentile_UTM_149-0000069888-0000000000.tif (2.38 GB)\n",
      "\n",
      "Successfully downloaded file to ../../data/S2_percentile_UTM_148-0000023296-0000023296.tif\n",
      "\t04/11/2020 19:39:54 | rio warp ../../data/S2_percentile_UTM_148-0000023296-0000023296.tif ../../data/S2_percentile_UTM_148-0000023296-0000023296_osgb.tif --threads 16 --dst-crs EPSG:27700\n",
      "Successfully downloaded file to ../../data/S2_percentile_UTM_148-0000069888-0000023296.tif\n",
      "\t04/11/2020 19:42:43 | rio warp ../../data/S2_percentile_UTM_148-0000069888-0000023296.tif ../../data/S2_percentile_UTM_148-0000069888-0000023296_osgb.tif --threads 16 --dst-crs EPSG:27700\n",
      "04/11/2020 19:42:49 | Working on Tile 29V - File: S2_percentile_UTM_148-0000023296-0000000000.tif\n",
      "Downloading data from http://jeodpp.jrc.ec.europa.eu/ftp/jrc-opendata/GHSL/GHS_composite_S2_L1C_2017-2018_GLOBE_R2020A/GHS_composite_S2_L1C_2017-2018_GLOBE_R2020A_UTM_10/V1-0/29V/S2_percentile_UTM_148-0000023296-0000000000.tif (1.47 GB)\n",
      "\n",
      "04/11/2020 19:45:33 | Working on Tile 29V - File: S2_percentile_UTM_148-0000069888-0000000000.tif\n",
      "Downloading data from http://jeodpp.jrc.ec.europa.eu/ftp/jrc-opendata/GHSL/GHS_composite_S2_L1C_2017-2018_GLOBE_R2020A/GHS_composite_S2_L1C_2017-2018_GLOBE_R2020A_UTM_10/V1-0/29V/S2_percentile_UTM_148-0000069888-0000000000.tif (1.76 GB)\n",
      "\n",
      "Successfully downloaded file to ../../data/S2_percentile_UTM_210-0000000000-0000023296.tif\n",
      "\t04/11/2020 19:57:33 | rio warp ../../data/S2_percentile_UTM_210-0000000000-0000023296.tif ../../data/S2_percentile_UTM_210-0000000000-0000023296_osgb.tif --threads 16 --dst-crs EPSG:27700\n",
      "04/11/2020 20:02:16 | Working on Tile 31U - File: S2_percentile_UTM_210-0000000000-0000000000.tif\n",
      "Downloading data from http://jeodpp.jrc.ec.europa.eu/ftp/jrc-opendata/GHSL/GHS_composite_S2_L1C_2017-2018_GLOBE_R2020A/GHS_composite_S2_L1C_2017-2018_GLOBE_R2020A_UTM_10/V1-0/31U/S2_percentile_UTM_210-0000000000-0000000000.tif (1.65 GB)\n",
      "\n",
      "Successfully downloaded file to ../../data/S2_percentile_UTM_148-0000000000-0000000000.tif\n",
      "\t04/11/2020 20:18:30 | rio warp ../../data/S2_percentile_UTM_148-0000000000-0000000000.tif ../../data/S2_percentile_UTM_148-0000000000-0000000000_osgb.tif --threads 16 --dst-crs EPSG:27700\n",
      "Successfully downloaded file to ../../data/S2_percentile_UTM_148-0000046592-0000023296.tif\n",
      "\t04/11/2020 20:19:32 | rio warp ../../data/S2_percentile_UTM_148-0000046592-0000023296.tif ../../data/S2_percentile_UTM_148-0000046592-0000023296_osgb.tif --threads 16 --dst-crs EPSG:27700\n",
      "04/11/2020 20:22:51 | Working on Tile 29V - File: S2_percentile_UTM_148-0000046592-0000000000.tif\n",
      "Downloading data from http://jeodpp.jrc.ec.europa.eu/ftp/jrc-opendata/GHSL/GHS_composite_S2_L1C_2017-2018_GLOBE_R2020A/GHS_composite_S2_L1C_2017-2018_GLOBE_R2020A_UTM_10/V1-0/29V/S2_percentile_UTM_148-0000046592-0000000000.tif (2.05 GB)\n",
      "\n",
      "Successfully downloaded file to ../../data/S2_percentile_UTM_149-0000000000-0000000000.tif\n",
      "\t04/11/2020 20:30:05 | rio warp ../../data/S2_percentile_UTM_149-0000000000-0000000000.tif ../../data/S2_percentile_UTM_149-0000000000-0000000000_osgb.tif --threads 16 --dst-crs EPSG:27700\n",
      "Successfully downloaded file to ../../data/S2_percentile_UTM_210-0000023296-0000023296.tif\n",
      "\t04/11/2020 20:41:48 | rio warp ../../data/S2_percentile_UTM_210-0000023296-0000023296.tif ../../data/S2_percentile_UTM_210-0000023296-0000023296_osgb.tif --threads 16 --dst-crs EPSG:27700\n",
      "04/11/2020 20:46:33 | Working on Tile 31U - File: S2_percentile_UTM_210-0000023296-0000000000.tif\n",
      "Downloading data from http://jeodpp.jrc.ec.europa.eu/ftp/jrc-opendata/GHSL/GHS_composite_S2_L1C_2017-2018_GLOBE_R2020A/GHS_composite_S2_L1C_2017-2018_GLOBE_R2020A_UTM_10/V1-0/31U/S2_percentile_UTM_210-0000023296-0000000000.tif (2.12 GB)\n",
      "\n",
      "Successfully downloaded file to ../../data/S2_percentile_UTM_209-0000046592-0000023296.tif\n",
      "\t04/11/2020 21:30:26 | rio warp ../../data/S2_percentile_UTM_209-0000046592-0000023296.tif ../../data/S2_percentile_UTM_209-0000046592-0000023296_osgb.tif --threads 16 --dst-crs EPSG:27700\n",
      "04/11/2020 21:35:03 | Working on Tile 30U - File: S2_percentile_UTM_209-0000046592-0000000000.tif\n",
      "Downloading data from http://jeodpp.jrc.ec.europa.eu/ftp/jrc-opendata/GHSL/GHS_composite_S2_L1C_2017-2018_GLOBE_R2020A/GHS_composite_S2_L1C_2017-2018_GLOBE_R2020A_UTM_10/V1-0/30U/S2_percentile_UTM_209-0000046592-0000000000.tif (2.22 GB)\n",
      "\n",
      "Successfully downloaded file to ../../data/S2_percentile_UTM_148-0000023296-0000000000.tif\n",
      "\t04/11/2020 21:36:45 | rio warp ../../data/S2_percentile_UTM_148-0000023296-0000000000.tif ../../data/S2_percentile_UTM_148-0000023296-0000000000_osgb.tif --threads 16 --dst-crs EPSG:27700\n",
      "Successfully downloaded file to ../../data/S2_percentile_UTM_209-0000023296-0000023296.tif\n",
      "\t04/11/2020 21:40:07 | rio warp ../../data/S2_percentile_UTM_209-0000023296-0000023296.tif ../../data/S2_percentile_UTM_209-0000023296-0000023296_osgb.tif --threads 16 --dst-crs EPSG:27700\n",
      "04/11/2020 21:43:57 | Working on Tile 30U - File: S2_percentile_UTM_209-0000023296-0000000000.tif\n",
      "Downloading data from http://jeodpp.jrc.ec.europa.eu/ftp/jrc-opendata/GHSL/GHS_composite_S2_L1C_2017-2018_GLOBE_R2020A/GHS_composite_S2_L1C_2017-2018_GLOBE_R2020A_UTM_10/V1-0/30U/S2_percentile_UTM_209-0000023296-0000000000.tif (2.16 GB)\n",
      "\n",
      "Successfully downloaded file to ../../data/S2_percentile_UTM_210-0000069888-0000023296.tif\n",
      "\t04/11/2020 21:48:57 | rio warp ../../data/S2_percentile_UTM_210-0000069888-0000023296.tif ../../data/S2_percentile_UTM_210-0000069888-0000023296_osgb.tif --threads 16 --dst-crs EPSG:27700\n",
      "04/11/2020 21:52:27 | Working on Tile 31U - File: S2_percentile_UTM_210-0000069888-0000000000.tif\n",
      "Downloading data from http://jeodpp.jrc.ec.europa.eu/ftp/jrc-opendata/GHSL/GHS_composite_S2_L1C_2017-2018_GLOBE_R2020A/GHS_composite_S2_L1C_2017-2018_GLOBE_R2020A_UTM_10/V1-0/31U/S2_percentile_UTM_210-0000069888-0000000000.tif (2.49 GB)\n",
      "\n",
      "Successfully downloaded file to ../../data/S2_percentile_UTM_148-0000069888-0000000000.tif\n",
      "\t04/11/2020 22:30:43 | rio warp ../../data/S2_percentile_UTM_148-0000069888-0000000000.tif ../../data/S2_percentile_UTM_148-0000069888-0000000000_osgb.tif --threads 16 --dst-crs EPSG:27700\n",
      "Successfully downloaded file to ../../data/S2_percentile_UTM_210-0000046592-0000023296.tif\n",
      "\t04/11/2020 22:34:42 | rio warp ../../data/S2_percentile_UTM_210-0000046592-0000023296.tif ../../data/S2_percentile_UTM_210-0000046592-0000023296_osgb.tif --threads 16 --dst-crs EPSG:27700\n",
      "Successfully downloaded file to ../../data/S2_percentile_UTM_149-0000023296-0000000000.tif\n",
      "\t04/11/2020 22:37:28 | rio warp ../../data/S2_percentile_UTM_149-0000023296-0000000000.tif ../../data/S2_percentile_UTM_149-0000023296-0000000000_osgb.tif --threads 16 --dst-crs EPSG:27700\n",
      "04/11/2020 22:38:34 | Working on Tile 31U - File: S2_percentile_UTM_210-0000046592-0000000000.tif\n",
      "Downloading data from http://jeodpp.jrc.ec.europa.eu/ftp/jrc-opendata/GHSL/GHS_composite_S2_L1C_2017-2018_GLOBE_R2020A/GHS_composite_S2_L1C_2017-2018_GLOBE_R2020A_UTM_10/V1-0/31U/S2_percentile_UTM_210-0000046592-0000000000.tif (2.40 GB)\n",
      "\n",
      "Successfully downloaded file to ../../data/S2_percentile_UTM_210-0000000000-0000000000.tif\n",
      "\t04/11/2020 22:47:02 | rio warp ../../data/S2_percentile_UTM_210-0000000000-0000000000.tif ../../data/S2_percentile_UTM_210-0000000000-0000000000_osgb.tif --threads 16 --dst-crs EPSG:27700\n",
      "Successfully downloaded file to ../../data/S2_percentile_UTM_210-0000023296-0000000000.tif\n",
      "\t04/11/2020 23:13:11 | rio warp ../../data/S2_percentile_UTM_210-0000023296-0000000000.tif ../../data/S2_percentile_UTM_210-0000023296-0000000000_osgb.tif --threads 16 --dst-crs EPSG:27700\n",
      "Successfully downloaded file to ../../data/S2_percentile_UTM_148-0000046592-0000000000.tif\n",
      "\t04/11/2020 23:23:46 | rio warp ../../data/S2_percentile_UTM_148-0000046592-0000000000.tif ../../data/S2_percentile_UTM_148-0000046592-0000000000_osgb.tif --threads 16 --dst-crs EPSG:27700\n",
      "Successfully downloaded file to ../../data/S2_percentile_UTM_209-0000000000-0000023296.tif\n",
      "\t04/11/2020 23:27:24 | rio warp ../../data/S2_percentile_UTM_209-0000000000-0000023296.tif ../../data/S2_percentile_UTM_209-0000000000-0000023296_osgb.tif --threads 16 --dst-crs EPSG:27700\n",
      "Successfully downloaded file to ../../data/S2_percentile_UTM_149-0000069888-0000000000.tif\n",
      "\t04/11/2020 23:29:45 | rio warp ../../data/S2_percentile_UTM_149-0000069888-0000000000.tif ../../data/S2_percentile_UTM_149-0000069888-0000000000_osgb.tif --threads 16 --dst-crs EPSG:27700\n",
      "04/11/2020 23:31:44 | Working on Tile 30U - File: S2_percentile_UTM_209-0000000000-0000000000.tif\n",
      "Downloading data from http://jeodpp.jrc.ec.europa.eu/ftp/jrc-opendata/GHSL/GHS_composite_S2_L1C_2017-2018_GLOBE_R2020A/GHS_composite_S2_L1C_2017-2018_GLOBE_R2020A_UTM_10/V1-0/30U/S2_percentile_UTM_209-0000000000-0000000000.tif (2.18 GB)\n",
      "\n",
      "Successfully downloaded file to ../../data/S2_percentile_UTM_209-0000023296-0000000000.tif\n",
      "\t04/11/2020 23:40:02 | rio warp ../../data/S2_percentile_UTM_209-0000023296-0000000000.tif ../../data/S2_percentile_UTM_209-0000023296-0000000000_osgb.tif --threads 16 --dst-crs EPSG:27700\n",
      "Successfully downloaded file to ../../data/S2_percentile_UTM_209-0000046592-0000000000.tif\n",
      "\t04/11/2020 23:40:59 | rio warp ../../data/S2_percentile_UTM_209-0000046592-0000000000.tif ../../data/S2_percentile_UTM_209-0000046592-0000000000_osgb.tif --threads 16 --dst-crs EPSG:27700\n",
      "Successfully downloaded file to ../../data/S2_percentile_UTM_210-0000069888-0000000000.tif\n",
      "\t04/11/2020 23:45:27 | rio warp ../../data/S2_percentile_UTM_210-0000069888-0000000000.tif ../../data/S2_percentile_UTM_210-0000069888-0000000000_osgb.tif --threads 16 --dst-crs EPSG:27700\n",
      "Successfully downloaded file to ../../data/S2_percentile_UTM_210-0000046592-0000000000.tif\n",
      "\t05/11/2020 00:05:13 | rio warp ../../data/S2_percentile_UTM_210-0000046592-0000000000.tif ../../data/S2_percentile_UTM_210-0000046592-0000000000_osgb.tif --threads 16 --dst-crs EPSG:27700\n",
      "Successfully downloaded file to ../../data/S2_percentile_UTM_209-0000069888-0000023296.tif\n",
      "\t05/11/2020 00:09:45 | rio warp ../../data/S2_percentile_UTM_209-0000069888-0000023296.tif ../../data/S2_percentile_UTM_209-0000069888-0000023296_osgb.tif --threads 16 --dst-crs EPSG:27700\n",
      "Successfully downloaded file to ../../data/S2_percentile_UTM_209-0000000000-0000000000.tif\n",
      "\t05/11/2020 00:10:25 | rio warp ../../data/S2_percentile_UTM_209-0000000000-0000000000.tif ../../data/S2_percentile_UTM_209-0000000000-0000000000_osgb.tif --threads 16 --dst-crs EPSG:27700\n",
      "05/11/2020 00:13:21 | Working on Tile 30U - File: S2_percentile_UTM_209-0000069888-0000000000.tif\n",
      "Downloading data from http://jeodpp.jrc.ec.europa.eu/ftp/jrc-opendata/GHSL/GHS_composite_S2_L1C_2017-2018_GLOBE_R2020A/GHS_composite_S2_L1C_2017-2018_GLOBE_R2020A_UTM_10/V1-0/30U/S2_percentile_UTM_209-0000069888-0000000000.tif (1.82 GB)\n",
      "\n",
      "Successfully downloaded file to ../../data/S2_percentile_UTM_209-0000069888-0000000000.tif\n",
      "\t05/11/2020 00:27:21 | rio warp ../../data/S2_percentile_UTM_209-0000069888-0000000000.tif ../../data/S2_percentile_UTM_209-0000069888-0000000000_osgb.tif --threads 16 --dst-crs EPSG:27700\n",
      "Successfully downloaded file to ../../data/S2_percentile_UTM_149-0000046592-0000000000.tif\n",
      "\t05/11/2020 00:57:08 | rio warp ../../data/S2_percentile_UTM_149-0000046592-0000000000.tif ../../data/S2_percentile_UTM_149-0000046592-0000000000_osgb.tif --threads 16 --dst-crs EPSG:27700\n"
     ]
    }
   ],
   "source": [
    "# Ship `meta` to Dask\n",
    "dmeta = dd.from_pandas(meta[[\"dst_path\", \"UTMtile\", \"URL\"]],\n",
    "                       npartitions=cpu_count()\n",
    "                      )\n",
    "# Apply in parallel\n",
    "dout = dmeta.apply(utils.download_reproject, \n",
    "                   axis=1,\n",
    "                   meta=(\"Output\", None),\n",
    "                   progressbar=False,\n",
    "                   remove_intermediate=False,\n",
    "                  )\n",
    "_ = dout.compute()"
   ]
  },
  {
   "cell_type": "markdown",
   "metadata": {},
   "source": [
    "### Generate `.vrt` file\n",
    "\n",
    "**NOTE** - The command below does not seem to work from the notebook. If you run the equivalent from the terminal without backtracking folders (`../`) it should work."
   ]
  },
  {
   "cell_type": "code",
   "execution_count": 10,
   "metadata": {},
   "outputs": [
    {
     "name": "stdout",
     "output_type": "stream",
     "text": [
      "0...10...20...30...40...50...60...70...80...90...100 - done.\n",
      "ERROR 4: ../../data/S2_percentile_UTM_*_osgb.tif: No such file or directory\n",
      "Warning 1: Can't open ../../data/S2_percentile_UTM_*_osgb.tif. Skipping it\n"
     ]
    }
   ],
   "source": [
    "! gdalbuildvrt $local_dir\"GHS-composite-S2.vrt\" $local_dir\"S2_percentile_UTM_*_osgb.tif\""
   ]
  }
 ],
 "metadata": {
  "kernelspec": {
   "display_name": "Python 3",
   "language": "python",
   "name": "python3"
  },
  "language_info": {
   "codemirror_mode": {
    "name": "ipython",
    "version": 3
   },
   "file_extension": ".py",
   "mimetype": "text/x-python",
   "name": "python",
   "nbconvert_exporter": "python",
   "pygments_lexer": "ipython3",
   "version": "3.8.6"
  }
 },
 "nbformat": 4,
 "nbformat_minor": 4
}
